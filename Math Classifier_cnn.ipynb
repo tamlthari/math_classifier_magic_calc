{
 "cells": [
  {
   "cell_type": "markdown",
   "metadata": {},
   "source": [
    "# AI CALCULATOR"
   ]
  },
  {
   "cell_type": "markdown",
   "metadata": {},
   "source": [
    "## Libraries"
   ]
  },
  {
   "cell_type": "code",
   "execution_count": 1,
   "metadata": {},
   "outputs": [
    {
     "data": {
      "text/plain": [
       "'2.0.0'"
      ]
     },
     "execution_count": 1,
     "metadata": {},
     "output_type": "execute_result"
    }
   ],
   "source": [
    "from __future__ import absolute_import, division, print_function, unicode_literals\n",
    "\n",
    "import matplotlib.pylab as plt\n",
    "import shutil # copy, move file\n",
    "import os # miscellaneous operation system interfaces\n",
    "import pathlib\n",
    "import random\n",
    "import numpy as np\n",
    "\n",
    "%matplotlib inline\n",
    "\n",
    "# let's hope we got tensorflow 2 installed\n",
    "# Other wise  !pip install tensorflow-gpu==2.0.0\n",
    "import tensorflow as tf\n",
    "tf.__version__"
   ]
  },
  {
   "cell_type": "markdown",
   "metadata": {},
   "source": [
    "## Path lead to photos"
   ]
  },
  {
   "cell_type": "code",
   "execution_count": 2,
   "metadata": {},
   "outputs": [],
   "source": [
    "#!unzip data.zip"
   ]
  },
  {
   "cell_type": "code",
   "execution_count": 3,
   "metadata": {},
   "outputs": [],
   "source": [
    "# create a path to data folder\n",
    "# data_root = pathlib.Path('./first_half_mul')\n",
    "data_root = pathlib.Path('../extracted_images')"
   ]
  },
  {
   "cell_type": "code",
   "execution_count": 4,
   "metadata": {},
   "outputs": [
    {
     "name": "stdout",
     "output_type": "stream",
     "text": [
      "/Users/macmac/Documents/Machine Learning/WeekEight/model_ml\r\n"
     ]
    }
   ],
   "source": [
    "# double check our current directory\n",
    "!pwd"
   ]
  },
  {
   "cell_type": "markdown",
   "metadata": {},
   "source": [
    "#### Take all images and paths lead to these images"
   ]
  },
  {
   "cell_type": "code",
   "execution_count": 5,
   "metadata": {},
   "outputs": [],
   "source": [
    "# Find all image's path\n",
    "all_image_paths = list(data_root.glob(\"**/*\"))\n",
    "\n",
    "# check if the path contains file\n",
    "all_image_paths = [str(path) for path in all_image_paths if path.is_file()]\n",
    "\n",
    "# time to shuffle our data\n",
    "random.shuffle(all_image_paths)"
   ]
  },
  {
   "cell_type": "markdown",
   "metadata": {},
   "source": [
    "#### Total images"
   ]
  },
  {
   "cell_type": "code",
   "execution_count": 6,
   "metadata": {},
   "outputs": [
    {
     "data": {
      "text/plain": [
       "375975"
      ]
     },
     "execution_count": 6,
     "metadata": {},
     "output_type": "execute_result"
    }
   ],
   "source": [
    "# total images\n",
    "image_count = len(all_image_paths)\n",
    "image_count"
   ]
  },
  {
   "cell_type": "code",
   "execution_count": 7,
   "metadata": {},
   "outputs": [
    {
     "name": "stdout",
     "output_type": "stream",
     "text": [
      "0\n",
      "3000\n",
      "6000\n",
      "9000\n",
      "12000\n",
      "15000\n",
      "18000\n",
      "21000\n",
      "24000\n",
      "27000\n",
      "30000\n",
      "33000\n",
      "36000\n",
      "39000\n",
      "42000\n",
      "45000\n",
      "48000\n",
      "51000\n",
      "54000\n",
      "57000\n",
      "60000\n",
      "63000\n",
      "66000\n",
      "69000\n",
      "72000\n",
      "75000\n",
      "78000\n",
      "81000\n",
      "84000\n",
      "87000\n",
      "90000\n",
      "93000\n",
      "96000\n",
      "99000\n",
      "102000\n",
      "105000\n",
      "108000\n",
      "111000\n",
      "114000\n",
      "117000\n",
      "120000\n",
      "123000\n",
      "126000\n",
      "129000\n",
      "../extracted_images/.DS_Store\n",
      "132000\n",
      "135000\n",
      "138000\n",
      "141000\n",
      "144000\n",
      "147000\n",
      "150000\n",
      "153000\n",
      "156000\n",
      "159000\n",
      "162000\n",
      "165000\n",
      "168000\n",
      "171000\n",
      "174000\n",
      "177000\n",
      "180000\n",
      "183000\n",
      "186000\n",
      "189000\n",
      "192000\n",
      "195000\n",
      "198000\n",
      "201000\n",
      "204000\n",
      "207000\n",
      "210000\n",
      "213000\n",
      "216000\n",
      "219000\n",
      "222000\n",
      "225000\n",
      "228000\n",
      "231000\n",
      "234000\n",
      "237000\n",
      "240000\n",
      "243000\n",
      "246000\n",
      "249000\n",
      "252000\n",
      "255000\n",
      "258000\n",
      "261000\n",
      "264000\n",
      "267000\n",
      "270000\n",
      "273000\n",
      "276000\n",
      "279000\n",
      "282000\n",
      "285000\n",
      "288000\n",
      "291000\n",
      "294000\n",
      "297000\n",
      "300000\n",
      "303000\n",
      "306000\n",
      "309000\n",
      "312000\n",
      "315000\n",
      "318000\n",
      "321000\n",
      "324000\n",
      "327000\n",
      "330000\n",
      "333000\n",
      "336000\n",
      "339000\n",
      "342000\n",
      "345000\n",
      "348000\n",
      "351000\n",
      "354000\n",
      "357000\n",
      "360000\n",
      "363000\n",
      "366000\n",
      "369000\n",
      "372000\n",
      "375000\n"
     ]
    }
   ],
   "source": [
    "# read image files and ignore DS_Store\n",
    "for index, image_path in enumerate(all_image_paths):\n",
    "    if (image_path.split('.')[1] != \"DS_Store\") :\n",
    "        try:\n",
    "            image = tf.io.read_file(image_path)\n",
    "            image = tf.image.decode_jpeg(image, channels=3)\n",
    "        except:\n",
    "            print(all_image_paths[index])\n",
    "        if index % 3000 == 0: \n",
    "            print(index)\n",
    "    else:\n",
    "        all_image_paths.remove(image_path)"
   ]
  },
  {
   "cell_type": "markdown",
   "metadata": {},
   "source": [
    "### Take labels"
   ]
  },
  {
   "cell_type": "code",
   "execution_count": 8,
   "metadata": {
    "scrolled": false
   },
   "outputs": [
    {
     "data": {
      "text/plain": [
       "(array(['!', '(', ')', '+', ',', '-', '0', '1', '2', '3', '4', '5', '6',\n",
       "        '7', '8', '9', '=', 'A', 'C', 'Delta', 'G', 'H', 'M', 'N', 'R',\n",
       "        'S', 'T', 'X', '[', ']', 'alpha', 'ascii_124', 'b', 'beta', 'cos',\n",
       "        'd', 'div', 'e', 'exists', 'extracted_images', 'f', 'forall',\n",
       "        'forward_slash', 'gamma', 'geq', 'gt', 'i', 'in', 'infty', 'int',\n",
       "        'j', 'k', 'l', 'lambda', 'ldots', 'leq', 'lim', 'log', 'lt', 'mu',\n",
       "        'neq', 'o', 'p', 'phi', 'pi', 'pm', 'prime', 'q', 'rightarrow',\n",
       "        'sigma', 'sin', 'sqrt', 'sum', 'tan', 'theta', 'times', 'u', 'v',\n",
       "        'w', 'y', 'z', '{', '}'], dtype='<U16'), 83)"
      ]
     },
     "execution_count": 8,
     "metadata": {},
     "output_type": "execute_result"
    }
   ],
   "source": [
    "# get labels from folder names\n",
    "label_names = sorted(item.name for item in data_root.glob('**/') if item.is_dir())\n",
    "\n",
    "label_names = np.array(label_names)\n",
    "label_names, len(label_names)"
   ]
  },
  {
   "cell_type": "code",
   "execution_count": 9,
   "metadata": {},
   "outputs": [],
   "source": [
    "# might have to remove stuffs from unrelevant labels\n",
    "# label_names.remove('.ipynb_checkpoints')\n",
    "# label_names=label_names[:-2].astype(int)\n",
    "# label_names=label_names[:-1]\n",
    "label_names=np.delete(label_names,np.where(label_names=='extracted_images'))"
   ]
  },
  {
   "cell_type": "code",
   "execution_count": 10,
   "metadata": {},
   "outputs": [
    {
     "data": {
      "text/plain": [
       "(array(['!', '(', ')', '+', ',', '-', '0', '1', '2', '3', '4', '5', '6',\n",
       "        '7', '8', '9', '=', 'A', 'C', 'Delta', 'G', 'H', 'M', 'N', 'R',\n",
       "        'S', 'T', 'X', '[', ']', 'alpha', 'ascii_124', 'b', 'beta', 'cos',\n",
       "        'd', 'div', 'e', 'exists', 'f', 'forall', 'forward_slash', 'gamma',\n",
       "        'geq', 'gt', 'i', 'in', 'infty', 'int', 'j', 'k', 'l', 'lambda',\n",
       "        'ldots', 'leq', 'lim', 'log', 'lt', 'mu', 'neq', 'o', 'p', 'phi',\n",
       "        'pi', 'pm', 'prime', 'q', 'rightarrow', 'sigma', 'sin', 'sqrt',\n",
       "        'sum', 'tan', 'theta', 'times', 'u', 'v', 'w', 'y', 'z', '{', '}'],\n",
       "       dtype='<U16'), 82)"
      ]
     },
     "execution_count": 10,
     "metadata": {},
     "output_type": "execute_result"
    }
   ],
   "source": [
    "label_names, len(label_names)"
   ]
  },
  {
   "cell_type": "code",
   "execution_count": 11,
   "metadata": {},
   "outputs": [],
   "source": [
    "label = np.arange(len(label_names))"
   ]
  },
  {
   "cell_type": "code",
   "execution_count": 12,
   "metadata": {},
   "outputs": [
    {
     "data": {
      "text/plain": [
       "array([ 0,  1,  2,  3,  4,  5,  6,  7,  8,  9, 10, 11, 12, 13, 14, 15, 16,\n",
       "       17, 18, 19, 20, 21, 22, 23, 24, 25, 26, 27, 28, 29, 30, 31, 32, 33,\n",
       "       34, 35, 36, 37, 38, 39, 40, 41, 42, 43, 44, 45, 46, 47, 48, 49, 50,\n",
       "       51, 52, 53, 54, 55, 56, 57, 58, 59, 60, 61, 62, 63, 64, 65, 66, 67,\n",
       "       68, 69, 70, 71, 72, 73, 74, 75, 76, 77, 78, 79, 80, 81])"
      ]
     },
     "execution_count": 12,
     "metadata": {},
     "output_type": "execute_result"
    }
   ],
   "source": [
    "label"
   ]
  },
  {
   "cell_type": "code",
   "execution_count": 13,
   "metadata": {},
   "outputs": [],
   "source": [
    "# we want the label to be in order so we dont need to remember the order it appear 1 -> 2 -> 3 -> 4 -> 5 -> 6 -> 7 -> 8 ...\n",
    "# label_names.sort()"
   ]
  },
  {
   "cell_type": "code",
   "execution_count": 14,
   "metadata": {},
   "outputs": [
    {
     "data": {
      "text/plain": [
       "array(['!', '(', ')', '+', ',', '-', '0', '1', '2', '3', '4', '5', '6',\n",
       "       '7', '8', '9', '=', 'A', 'C', 'Delta', 'G', 'H', 'M', 'N', 'R',\n",
       "       'S', 'T', 'X', '[', ']', 'alpha', 'ascii_124', 'b', 'beta', 'cos',\n",
       "       'd', 'div', 'e', 'exists', 'f', 'forall', 'forward_slash', 'gamma',\n",
       "       'geq', 'gt', 'i', 'in', 'infty', 'int', 'j', 'k', 'l', 'lambda',\n",
       "       'ldots', 'leq', 'lim', 'log', 'lt', 'mu', 'neq', 'o', 'p', 'phi',\n",
       "       'pi', 'pm', 'prime', 'q', 'rightarrow', 'sigma', 'sin', 'sqrt',\n",
       "       'sum', 'tan', 'theta', 'times', 'u', 'v', 'w', 'y', 'z', '{', '}'],\n",
       "      dtype='<U16')"
      ]
     },
     "execution_count": 14,
     "metadata": {},
     "output_type": "execute_result"
    }
   ],
   "source": [
    "# make sure the label in nice order\n",
    "label_names"
   ]
  },
  {
   "cell_type": "markdown",
   "metadata": {},
   "source": [
    "### Set index for labels"
   ]
  },
  {
   "cell_type": "code",
   "execution_count": 15,
   "metadata": {},
   "outputs": [
    {
     "data": {
      "text/plain": [
       "{'!': 0,\n",
       " '(': 1,\n",
       " ')': 2,\n",
       " '+': 3,\n",
       " ',': 4,\n",
       " '-': 5,\n",
       " '0': 6,\n",
       " '1': 7,\n",
       " '2': 8,\n",
       " '3': 9,\n",
       " '4': 10,\n",
       " '5': 11,\n",
       " '6': 12,\n",
       " '7': 13,\n",
       " '8': 14,\n",
       " '9': 15,\n",
       " '=': 16,\n",
       " 'A': 17,\n",
       " 'C': 18,\n",
       " 'Delta': 19,\n",
       " 'G': 20,\n",
       " 'H': 21,\n",
       " 'M': 22,\n",
       " 'N': 23,\n",
       " 'R': 24,\n",
       " 'S': 25,\n",
       " 'T': 26,\n",
       " 'X': 27,\n",
       " '[': 28,\n",
       " ']': 29,\n",
       " 'alpha': 30,\n",
       " 'ascii_124': 31,\n",
       " 'b': 32,\n",
       " 'beta': 33,\n",
       " 'cos': 34,\n",
       " 'd': 35,\n",
       " 'div': 36,\n",
       " 'e': 37,\n",
       " 'exists': 38,\n",
       " 'f': 39,\n",
       " 'forall': 40,\n",
       " 'forward_slash': 41,\n",
       " 'gamma': 42,\n",
       " 'geq': 43,\n",
       " 'gt': 44,\n",
       " 'i': 45,\n",
       " 'in': 46,\n",
       " 'infty': 47,\n",
       " 'int': 48,\n",
       " 'j': 49,\n",
       " 'k': 50,\n",
       " 'l': 51,\n",
       " 'lambda': 52,\n",
       " 'ldots': 53,\n",
       " 'leq': 54,\n",
       " 'lim': 55,\n",
       " 'log': 56,\n",
       " 'lt': 57,\n",
       " 'mu': 58,\n",
       " 'neq': 59,\n",
       " 'o': 60,\n",
       " 'p': 61,\n",
       " 'phi': 62,\n",
       " 'pi': 63,\n",
       " 'pm': 64,\n",
       " 'prime': 65,\n",
       " 'q': 66,\n",
       " 'rightarrow': 67,\n",
       " 'sigma': 68,\n",
       " 'sin': 69,\n",
       " 'sqrt': 70,\n",
       " 'sum': 71,\n",
       " 'tan': 72,\n",
       " 'theta': 73,\n",
       " 'times': 74,\n",
       " 'u': 75,\n",
       " 'v': 76,\n",
       " 'w': 77,\n",
       " 'y': 78,\n",
       " 'z': 79,\n",
       " '{': 80,\n",
       " '}': 81}"
      ]
     },
     "execution_count": 15,
     "metadata": {},
     "output_type": "execute_result"
    }
   ],
   "source": [
    "# create dictionary for prediction index to real label (in our case, it happens to be very similar on both side)\n",
    "label_to_index = dict((str(name), index) for index, name in enumerate(label_names))\n",
    "label_to_index"
   ]
  },
  {
   "cell_type": "markdown",
   "metadata": {},
   "source": [
    "### Set label for each image"
   ]
  },
  {
   "cell_type": "code",
   "execution_count": 16,
   "metadata": {},
   "outputs": [],
   "source": [
    "processed_paths = all_image_paths\n",
    "# del_arr = np.array([])\n",
    "for path in all_image_paths:\n",
    "    if pathlib.Path(path).parent.name == 'extracted_images':\n",
    "        processed_paths.remove(path)\n",
    "#         del_arr=np.insert(del_arr, 0, path)\n",
    "# processed_paths=np.delete(processed_paths,np.where(processed_paths==del_arr[::-1]))"
   ]
  },
  {
   "cell_type": "code",
   "execution_count": 17,
   "metadata": {
    "scrolled": true
   },
   "outputs": [
    {
     "name": "stdout",
     "output_type": "stream",
     "text": [
      "First 10 labels indices:  [20, 3, 3, 3, 71, 39, 8, 10, 51, 4]\n"
     ]
    }
   ],
   "source": [
    "# Find all image's labels from all_image_paths\n",
    "all_image_labels = [label_to_index[pathlib.Path(path).parent.name]\n",
    "                    for path in processed_paths]\n",
    "# all_image_labels = [label_to_index[pathlib.Path(path).name.split('_')[0]]\n",
    "#                     for path in all_image_paths]\n",
    "\n",
    "# get the first 10 lables to check if the random shuffle actually work\n",
    "print(\"First 10 labels indices: \", all_image_labels[:10])"
   ]
  },
  {
   "cell_type": "markdown",
   "metadata": {},
   "source": [
    "### Count amount per class"
   ]
  },
  {
   "cell_type": "code",
   "execution_count": 18,
   "metadata": {},
   "outputs": [
    {
     "data": {
      "text/plain": [
       "Counter({'G': 1692,\n",
       "         '+': 25112,\n",
       "         'sum': 2689,\n",
       "         'f': 3712,\n",
       "         '2': 26141,\n",
       "         '4': 7396,\n",
       "         'l': 1017,\n",
       "         ',': 1906,\n",
       "         'sin': 4293,\n",
       "         'y': 9340,\n",
       "         'N': 10862,\n",
       "         'beta': 2025,\n",
       "         'cos': 2986,\n",
       "         'X': 26594,\n",
       "         '(': 14294,\n",
       "         'sqrt': 8908,\n",
       "         'log': 2001,\n",
       "         'infty': 1783,\n",
       "         '-': 33997,\n",
       "         'z': 5870,\n",
       "         '1': 26520,\n",
       "         'i': 5140,\n",
       "         'b': 8651,\n",
       "         'w': 556,\n",
       "         '9': 3737,\n",
       "         'u': 1269,\n",
       "         'ascii_124': 1339,\n",
       "         'geq': 693,\n",
       "         '0': 6914,\n",
       "         'sigma': 201,\n",
       "         'rightarrow': 1703,\n",
       "         'int': 2742,\n",
       "         'd': 4852,\n",
       "         '7': 2909,\n",
       "         'e': 3003,\n",
       "         'gt': 258,\n",
       "         '6': 3118,\n",
       "         'theta': 2796,\n",
       "         'H': 1464,\n",
       "         ')': 14355,\n",
       "         'v': 1558,\n",
       "         '=': 13104,\n",
       "         '3': 10909,\n",
       "         'A': 12367,\n",
       "         '8': 3068,\n",
       "         '{': 376,\n",
       "         'C': 5802,\n",
       "         'p': 2680,\n",
       "         'neq': 558,\n",
       "         'times': 3251,\n",
       "         ']': 780,\n",
       "         'lim': 1675,\n",
       "         'M': 2476,\n",
       "         'lt': 477,\n",
       "         'pi': 2332,\n",
       "         'T': 3274,\n",
       "         'div': 868,\n",
       "         'k': 3074,\n",
       "         'alpha': 2546,\n",
       "         'gamma': 409,\n",
       "         'pm': 802,\n",
       "         'tan': 2450,\n",
       "         '5': 3545,\n",
       "         'S': 1413,\n",
       "         'R': 2671,\n",
       "         '!': 1300,\n",
       "         '[': 778,\n",
       "         'leq': 973,\n",
       "         'q': 1230,\n",
       "         'o': 449,\n",
       "         'j': 1536,\n",
       "         'forward_slash': 199,\n",
       "         'ldots': 609,\n",
       "         '}': 377,\n",
       "         'Delta': 137,\n",
       "         'mu': 177,\n",
       "         'prime': 329,\n",
       "         'phi': 355,\n",
       "         'forall': 45,\n",
       "         'in': 47,\n",
       "         'lambda': 109,\n",
       "         'exists': 21})"
      ]
     },
     "execution_count": 18,
     "metadata": {},
     "output_type": "execute_result"
    }
   ],
   "source": [
    "# Count number of images from each class\n",
    "from collections import Counter\n",
    "cnt = Counter()\n",
    "\n",
    "for label in all_image_labels:\n",
    "    cnt[label_names[label]] += 1\n",
    "  \n",
    "cnt"
   ]
  },
  {
   "cell_type": "markdown",
   "metadata": {},
   "source": [
    "## Functions"
   ]
  },
  {
   "cell_type": "code",
   "execution_count": 19,
   "metadata": {},
   "outputs": [],
   "source": [
    "# preprocessing image: decode_jpeg with 3 channels, rgb_to_grayscale, resize to (28,28) then standard by /255.\n",
    "def preprocess_image(image):\n",
    "    image = tf.image.decode_jpeg(image, channels=3)\n",
    "    image = tf.image.rgb_to_grayscale(image)\n",
    "    image = tf.image.resize(image, [28, 28]) #data is 45x45\n",
    "    image = (255 - image)/255.0\n",
    "\n",
    "    return image\n",
    "\n",
    "# load and use preprocess_image function\n",
    "def load_and_preprocess_image(path):\n",
    "    image = tf.io.read_file(path)\n",
    "    return preprocess_image(image)"
   ]
  },
  {
   "cell_type": "code",
   "execution_count": 20,
   "metadata": {},
   "outputs": [
    {
     "name": "stdout",
     "output_type": "stream",
     "text": [
      "../extracted_images/f/f_106669.jpg\n"
     ]
    },
    {
     "data": {
      "image/png": "[encoded data removed]",
      "text/plain": [
       "<Figure size 432x288 with 1 Axes>"
      ]
     },
     "metadata": {
      "needs_background": "light"
     },
     "output_type": "display_data"
    }
   ],
   "source": [
    "# pick a random image and show it\n",
    "index = random.randint(0, image_count)\n",
    "image_path = all_image_paths[index]\n",
    "label = all_image_labels[index]\n",
    "\n",
    "# show path file\n",
    "print(image_path)\n",
    "\n",
    "# show image\n",
    "plt.imshow(load_and_preprocess_image(image_path)[:,:,0], cmap='gray')\n",
    "plt.grid(False)\n",
    "plt.title(label_names[label])\n",
    "plt.show()"
   ]
  },
  {
   "cell_type": "code",
   "execution_count": 21,
   "metadata": {},
   "outputs": [],
   "source": [
    "# split the data for train set and test set\n",
    "from sklearn.model_selection import train_test_split\n",
    "\n",
    "train_image_paths, test_image_paths, train_image_labels, test_image_labels = train_test_split(all_image_paths, all_image_labels, test_size=0.2, random_state=101)"
   ]
  },
  {
   "cell_type": "code",
   "execution_count": 22,
   "metadata": {},
   "outputs": [
    {
     "data": {
      "text/plain": [
       "('../extracted_images/8/exp59064.jpg', 14)"
      ]
     },
     "execution_count": 22,
     "metadata": {},
     "output_type": "execute_result"
    }
   ],
   "source": [
    "test_image_paths[0], test_image_labels[0]"
   ]
  },
  {
   "cell_type": "code",
   "execution_count": 23,
   "metadata": {},
   "outputs": [],
   "source": [
    "# The tuples are unpacked into the positional arguments of the mapped function (keras requires this)\n",
    "def load_and_preprocess_from_path_label(path, label):\n",
    "    return load_and_preprocess_image(path), label\n",
    "\n",
    "BATCH_SIZE = 32\n",
    "AUTOTUNE = tf.data.experimental.AUTOTUNE\n",
    "\n",
    "# creating dataset\n",
    "def create_ds(all_image_paths, all_image_labels):\n",
    "    \n",
    "    # prepare the dataset for pipeline with tensor_slices\n",
    "    ds = tf.data.Dataset.from_tensor_slices((all_image_paths, all_image_labels))\n",
    "    \n",
    "    # map the load_and_preprocess_from_path_label function to the pipeline\n",
    "    image_label_ds = ds.map(load_and_preprocess_from_path_label)\n",
    "\n",
    "    # Setting a shuffle buffer size as large as the dataset ensures that the data is\n",
    "    # completely shuffled.\n",
    "    # so the order of training will be different for every eponch\n",
    "    ds = image_label_ds.shuffle(buffer_size=image_count)\n",
    "    ds = ds.repeat()\n",
    "    ds = ds.batch(BATCH_SIZE)\n",
    "    # `prefetch` lets the dataset fetch batches in the background while the model is training.\n",
    "    ds = ds.prefetch(buffer_size=AUTOTUNE)\n",
    "    return ds"
   ]
  },
  {
   "cell_type": "code",
   "execution_count": 24,
   "metadata": {},
   "outputs": [],
   "source": [
    "# create dataset for train set and test set\n",
    "train_set = create_ds(train_image_paths, train_image_labels)\n",
    "test_set = create_ds(test_image_paths, test_image_labels)"
   ]
  },
  {
   "cell_type": "markdown",
   "metadata": {},
   "source": [
    "## Model summary"
   ]
  },
  {
   "cell_type": "code",
   "execution_count": 25,
   "metadata": {},
   "outputs": [
    {
     "name": "stdout",
     "output_type": "stream",
     "text": [
      "Model: \"sequential\"\n",
      "_________________________________________________________________\n",
      "Layer (type)                 Output Shape              Param #   \n",
      "=================================================================\n",
      "conv2d (Conv2D)              (None, 28, 28, 12)        108       \n",
      "_________________________________________________________________\n",
      "batch_normalization (BatchNo (None, 28, 28, 12)        36        \n",
      "_________________________________________________________________\n",
      "activation (Activation)      (None, 28, 28, 12)        0         \n",
      "_________________________________________________________________\n",
      "conv2d_1 (Conv2D)            (None, 14, 14, 24)        10368     \n",
      "_________________________________________________________________\n",
      "batch_normalization_1 (Batch (None, 14, 14, 24)        72        \n",
      "_________________________________________________________________\n",
      "activation_1 (Activation)    (None, 14, 14, 24)        0         \n",
      "_________________________________________________________________\n",
      "conv2d_2 (Conv2D)            (None, 7, 7, 32)          27648     \n",
      "_________________________________________________________________\n",
      "batch_normalization_2 (Batch (None, 7, 7, 32)          96        \n",
      "_________________________________________________________________\n",
      "activation_2 (Activation)    (None, 7, 7, 32)          0         \n",
      "_________________________________________________________________\n",
      "flatten (Flatten)            (None, 1568)              0         \n",
      "_________________________________________________________________\n",
      "dense (Dense)                (None, 200)               313600    \n",
      "_________________________________________________________________\n",
      "batch_normalization_3 (Batch (None, 200)               600       \n",
      "_________________________________________________________________\n",
      "activation_3 (Activation)    (None, 200)               0         \n",
      "_________________________________________________________________\n",
      "dropout (Dropout)            (None, 200)               0         \n",
      "_________________________________________________________________\n",
      "dense_1 (Dense)              (None, 82)                16482     \n",
      "=================================================================\n",
      "Total params: 369,010\n",
      "Trainable params: 368,474\n",
      "Non-trainable params: 536\n",
      "_________________________________________________________________\n"
     ]
    }
   ],
   "source": [
    "# our model, 3 layers of CNN + Batch Normalization + Relu, Flatten, Dense + Bath Normalization + Relu + Dropout, Last Layer(12) + softmax\n",
    "cnn_model = tf.keras.Sequential(\n",
    "  [   \n",
    "      tf.keras.layers.Conv2D(kernel_size=3, filters=12, use_bias=False, padding='same', input_shape=(28, 28, 1)),\n",
    "      tf.keras.layers.BatchNormalization(center=True, scale=False),\n",
    "      tf.keras.layers.Activation('relu'),\n",
    "      \n",
    "      tf.keras.layers.Conv2D(kernel_size=6, filters=24, use_bias=False, padding='same', strides=2),\n",
    "      tf.keras.layers.BatchNormalization(center=True, scale=False),\n",
    "      tf.keras.layers.Activation('relu'),\n",
    "      \n",
    "      tf.keras.layers.Conv2D(kernel_size=6, filters=32, use_bias=False, padding='same', strides=2),\n",
    "      tf.keras.layers.BatchNormalization(center=True, scale=False),\n",
    "      tf.keras.layers.Activation('relu'),\n",
    "      \n",
    "      tf.keras.layers.Flatten(),\n",
    "      \n",
    "      tf.keras.layers.Dense(200, use_bias=False),\n",
    "      tf.keras.layers.BatchNormalization(center=True, scale=False),\n",
    "      tf.keras.layers.Activation('relu'),\n",
    "      \n",
    "      tf.keras.layers.Dropout(0.3),\n",
    "      tf.keras.layers.Dense(len(label_names), activation='softmax')\n",
    "  ])\n",
    "\n",
    "cnn_model.compile(optimizer=tf.keras.optimizers.Adam(lr=0.01),\n",
    "              loss='sparse_categorical_crossentropy',\n",
    "              metrics=['accuracy'])\n",
    "\n",
    "# print model layers\n",
    "cnn_model.summary()"
   ]
  },
  {
   "cell_type": "markdown",
   "metadata": {},
   "source": [
    "## Customized Callback"
   ]
  },
  {
   "cell_type": "code",
   "execution_count": 26,
   "metadata": {},
   "outputs": [],
   "source": [
    "# create object batch stats to store accuracy and loss values \n",
    "class CollectBatchStats(tf.keras.callbacks.Callback):\n",
    "    def __init__(self):\n",
    "        self.batch_losses = []\n",
    "        self.batch_acc = []\n",
    "        self.batch_val_losses = []\n",
    "        self.batch_val_acc = []\n",
    "\n",
    "    def on_train_batch_end(self, batch, logs=None):\n",
    "        self.batch_losses.append(logs['loss'])\n",
    "        self.batch_acc.append(logs['accuracy'])\n",
    "\n",
    "    def on_test_batch_end(self, batch, logs=None):\n",
    "        self.batch_val_losses.append(logs['loss'])\n",
    "        self.batch_val_acc.append(logs['accuracy'])\n"
   ]
  },
  {
   "cell_type": "code",
   "execution_count": null,
   "metadata": {},
   "outputs": [],
   "source": [
    "# Setting up EarlyStopping\n",
    "es = tf.keras.callbacks.EarlyStopping(monitor='val_loss',\n",
    "                                      mode='min',\n",
    "                                      restore_best_weights=True,\n",
    "                                      min_delta=1e-4,\n",
    "                                      verbose=1,\n",
    "                                      patience=3)"
   ]
  },
  {
   "cell_type": "markdown",
   "metadata": {},
   "source": [
    "## TRAINING"
   ]
  },
  {
   "cell_type": "code",
   "execution_count": 27,
   "metadata": {},
   "outputs": [
    {
     "name": "stdout",
     "output_type": "stream",
     "text": [
      "Train for 9399 steps, validate for 2349 steps\n",
      "Epoch 1/10\n",
      "9399/9399 [==============================] - 1238s 132ms/step - loss: 0.4089 - accuracy: 0.8849 - val_loss: 0.2530 - val_accuracy: 0.9266\n",
      "Epoch 2/10\n",
      "9399/9399 [==============================] - 1146s 122ms/step - loss: 0.2525 - accuracy: 0.9258 - val_loss: 0.2255 - val_accuracy: 0.9326\n",
      "Epoch 3/10\n",
      "9399/9399 [==============================] - 1184s 126ms/step - loss: 0.2138 - accuracy: 0.9365 - val_loss: 0.1846 - val_accuracy: 0.9535\n",
      "Epoch 4/10\n",
      "9399/9399 [==============================] - 885s 94ms/step - loss: 0.1901 - accuracy: 0.9435 - val_loss: 0.1233 - val_accuracy: 0.9628\n",
      "Epoch 5/10\n",
      "9399/9399 [==============================] - 935s 99ms/step - loss: 0.1759 - accuracy: 0.9480 - val_loss: 0.1157 - val_accuracy: 0.9648\n",
      "Epoch 6/10\n",
      "9399/9399 [==============================] - 1064s 113ms/step - loss: 0.1672 - accuracy: 0.9509 - val_loss: 0.1163 - val_accuracy: 0.9662\n",
      "Epoch 7/10\n",
      "9399/9399 [==============================] - 1082s 115ms/step - loss: 0.1562 - accuracy: 0.9543 - val_loss: 0.0924 - val_accuracy: 0.9707\n",
      "Epoch 8/10\n",
      "9399/9399 [==============================] - 969s 103ms/step - loss: 0.1492 - accuracy: 0.9565 - val_loss: 0.1111 - val_accuracy: 0.9700\n",
      "Epoch 9/10\n",
      "9399/9399 [==============================] - 973s 103ms/step - loss: 0.1453 - accuracy: 0.9578 - val_loss: 0.0924 - val_accuracy: 0.9724\n",
      "Epoch 10/10\n",
      "9399/9399 [==============================] - 949s 101ms/step - loss: 0.1427 - accuracy: 0.9591 - val_loss: 0.0831 - val_accuracy: 0.9758\n"
     ]
    }
   ],
   "source": [
    "# calculate the number of steps to finish one epoch\n",
    "steps_per_epoch = len(train_image_labels) // BATCH_SIZE\n",
    "val_steps_per_epoch = len(test_image_labels) // BATCH_SIZE\n",
    "batch_stats_callback = CollectBatchStats()\n",
    "\n",
    "# FIT THE DATA NOW\n",
    "history = cnn_model.fit(train_set, epochs=10, \n",
    "            steps_per_epoch=steps_per_epoch,\n",
    "            callbacks = [batch_stats_callback, es],\n",
    "            validation_data=test_set,\n",
    "            validation_steps=val_steps_per_epoch)"
   ]
  },
  {
   "cell_type": "code",
   "execution_count": 28,
   "metadata": {},
   "outputs": [],
   "source": [
    "def plot_loss(training_losses, val_losses, x_label='Training Steps'):\n",
    "    plt.figure()\n",
    "    plt.ylabel(\"Loss\")\n",
    "    plt.xlabel(x_label)\n",
    "    \n",
    "    training_steps = len(training_losses)\n",
    "    test_steps = len(val_losses)\n",
    "    plt.plot(training_losses, label='Training Loss')\n",
    "    plt.plot(np.linspace(0, training_steps, test_steps), val_losses, label='Validation Loss')\n",
    "    plt.ylim([0,max(plt.ylim())])\n",
    "    plt.legend(loc='upper right')\n",
    "    plt.show()"
   ]
  },
  {
   "cell_type": "code",
   "execution_count": 29,
   "metadata": {},
   "outputs": [],
   "source": [
    "def plot_accuracy(training_acc, val_acc, x_label='Training Steps'):\n",
    "    plt.figure()\n",
    "    plt.ylabel(\"Accuracy\")\n",
    "    plt.xlabel(x_label)\n",
    "    \n",
    "    training_steps = len(training_acc)\n",
    "    test_steps = len(val_acc)\n",
    "    plt.plot(training_acc, label='Training Accuracy')\n",
    "    plt.plot(np.linspace(0, training_steps, test_steps), val_acc, label='Validation Accuracy')\n",
    "    plt.ylim([0,1])\n",
    "    plt.legend(loc='lower right')\n",
    "    plt.show()"
   ]
  },
  {
   "cell_type": "code",
   "execution_count": 30,
   "metadata": {},
   "outputs": [
    {
     "data": {
      "text/plain": [
       "<Figure size 432x288 with 0 Axes>"
      ]
     },
     "metadata": {},
     "output_type": "display_data"
    },
    {
     "data": {
      "image/png": "[encoded data removed]",
      "text/plain": [
       "<Figure size 1008x360 with 2 Axes>"
      ]
     },
     "metadata": {
      "needs_background": "light"
     },
     "output_type": "display_data"
    }
   ],
   "source": [
    "def plot_training_results(training_acc, val_acc, epoch_acc, epoch_val_acc):\n",
    "    plt.figure()\n",
    "    fig, ax = plt.subplots(1, 2, figsize=[14, 5])\n",
    "\n",
    "    # Plot batchs training & validation accuracy\n",
    "    ax[0].set_ylabel(\"Accuracy\")\n",
    "    ax[0].set_xlabel(\"Training Steps\")\n",
    "\n",
    "    training_steps = len(training_acc)\n",
    "    test_steps = len(val_acc)\n",
    "    ax[0].plot(training_acc, label='Batch Training Accuracy')\n",
    "    ax[0].plot(np.linspace(0, training_steps, test_steps), val_acc, label='Batch Validation Accuracy')\n",
    "    ax[0].set_ylim([0.7,1])\n",
    "    ax[0].legend(loc='lower right')\n",
    "\n",
    "    # Plot epochs training & validation accuracy\n",
    "    ax[1].set_ylabel(\"Accuracy\")\n",
    "    ax[1].set_xlabel(\"Epochs\")\n",
    "\n",
    "    train_epochs = len(epoch_acc)\n",
    "    val_epochs = len(epoch_val_acc)\n",
    "    ax[1].plot(epoch_acc, label='Epoch Training Accuracy')\n",
    "    ax[1].plot(np.linspace(0, train_epochs, val_epochs), epoch_val_acc, label='Epoch Validation Accuracy')\n",
    "    ax[1].set_ylim([0.7,1])\n",
    "    ax[1].legend(loc='lower right')\n",
    "\n",
    "    plt.show()\n",
    "\n",
    "plot_training_results(batch_stats_callback.batch_acc,      #batch stats\n",
    "                      batch_stats_callback.batch_val_acc,  #batch stats\n",
    "                      history.history['accuracy'],         #epoch stats\n",
    "                      history.history['val_accuracy']      #epoch stats\n",
    "                     )"
   ]
  },
  {
   "cell_type": "markdown",
   "metadata": {},
   "source": [
    "## Testing and preview"
   ]
  },
  {
   "cell_type": "code",
   "execution_count": 31,
   "metadata": {},
   "outputs": [
    {
     "name": "stdout",
     "output_type": "stream",
     "text": [
      "Image batch shape:  (32, 28, 28, 1)\n",
      "Label batch shape:  (32,)\n"
     ]
    }
   ],
   "source": [
    "# Take 1 batch out to test\n",
    "\n",
    "for image_batch, label_batch in test_set:\n",
    "    print(\"Image batch shape: \", image_batch.shape)\n",
    "    print(\"Label batch shape: \", label_batch.shape)\n",
    "    break"
   ]
  },
  {
   "cell_type": "code",
   "execution_count": 32,
   "metadata": {},
   "outputs": [],
   "source": [
    "# Predict\n",
    "label_names = np.array(label_names)\n",
    "predicted_batch = cnn_model.predict(image_batch)\n",
    "predicted_id = np.argmax(predicted_batch, axis=1)\n",
    "predicted_label_batch = label_names[predicted_id]"
   ]
  },
  {
   "cell_type": "code",
   "execution_count": 33,
   "metadata": {},
   "outputs": [
    {
     "data": {
      "image/png": "[encoded data removed]",
      "text/plain": [
       "<Figure size 720x648 with 30 Axes>"
      ]
     },
     "metadata": {
      "needs_background": "light"
     },
     "output_type": "display_data"
    }
   ],
   "source": [
    "# Plot the result\n",
    "\n",
    "plt.figure(figsize=(10,9))\n",
    "plt.subplots_adjust(hspace=0.5)\n",
    "for n in range(30):\n",
    "    plt.subplot(6,5,n+1)\n",
    "    plt.imshow(image_batch[n][:,:,0])\n",
    "    color = \"green\" if predicted_id[n] == label_batch.numpy()[n] else \"red\"\n",
    "    plt.title(predicted_label_batch[n], color=color)\n",
    "    plt.axis('off')\n",
    "_ = plt.suptitle(\"Model predictions (green: correct, red: incorrect)\")"
   ]
  },
  {
   "cell_type": "markdown",
   "metadata": {},
   "source": [
    "## Export model"
   ]
  },
  {
   "cell_type": "code",
   "execution_count": 38,
   "metadata": {},
   "outputs": [],
   "source": [
    "# Export model\n",
    "cnn_model.save('kaggle_data.h5')"
   ]
  },
  {
   "cell_type": "code",
   "execution_count": 39,
   "metadata": {},
   "outputs": [
    {
     "name": "stdout",
     "output_type": "stream",
     "text": [
      "Model: \"sequential\"\n",
      "_________________________________________________________________\n",
      "Layer (type)                 Output Shape              Param #   \n",
      "=================================================================\n",
      "conv2d (Conv2D)              (None, 28, 28, 12)        108       \n",
      "_________________________________________________________________\n",
      "batch_normalization (BatchNo (None, 28, 28, 12)        36        \n",
      "_________________________________________________________________\n",
      "activation (Activation)      (None, 28, 28, 12)        0         \n",
      "_________________________________________________________________\n",
      "conv2d_1 (Conv2D)            (None, 14, 14, 24)        10368     \n",
      "_________________________________________________________________\n",
      "batch_normalization_1 (Batch (None, 14, 14, 24)        72        \n",
      "_________________________________________________________________\n",
      "activation_1 (Activation)    (None, 14, 14, 24)        0         \n",
      "_________________________________________________________________\n",
      "conv2d_2 (Conv2D)            (None, 7, 7, 32)          27648     \n",
      "_________________________________________________________________\n",
      "batch_normalization_2 (Batch (None, 7, 7, 32)          96        \n",
      "_________________________________________________________________\n",
      "activation_2 (Activation)    (None, 7, 7, 32)          0         \n",
      "_________________________________________________________________\n",
      "flatten (Flatten)            (None, 1568)              0         \n",
      "_________________________________________________________________\n",
      "dense (Dense)                (None, 200)               313600    \n",
      "_________________________________________________________________\n",
      "batch_normalization_3 (Batch (None, 200)               600       \n",
      "_________________________________________________________________\n",
      "activation_3 (Activation)    (None, 200)               0         \n",
      "_________________________________________________________________\n",
      "dropout (Dropout)            (None, 200)               0         \n",
      "_________________________________________________________________\n",
      "dense_1 (Dense)              (None, 82)                16482     \n",
      "=================================================================\n",
      "Total params: 369,010\n",
      "Trainable params: 368,474\n",
      "Non-trainable params: 536\n",
      "_________________________________________________________________\n"
     ]
    }
   ],
   "source": [
    "# Test model\n",
    "\n",
    "reloaded_model = tf.keras.models.load_model('kaggle_data.h5')\n",
    "reloaded_model.summary()"
   ]
  },
  {
   "cell_type": "code",
   "execution_count": 40,
   "metadata": {},
   "outputs": [],
   "source": [
    "# test if the current model result and export model result is consistent\n",
    "result_batch = cnn_model.predict(image_batch)\n",
    "reloaded_result_batch = reloaded_model.predict(image_batch)"
   ]
  },
  {
   "cell_type": "code",
   "execution_count": 41,
   "metadata": {},
   "outputs": [
    {
     "data": {
      "text/plain": [
       "0.0"
      ]
     },
     "execution_count": 41,
     "metadata": {},
     "output_type": "execute_result"
    }
   ],
   "source": [
    "# check if there is any difference\n",
    "abs(reloaded_result_batch - result_batch).max()"
   ]
  },
  {
   "cell_type": "code",
   "execution_count": null,
   "metadata": {},
   "outputs": [],
   "source": []
  }
 ],
 "metadata": {
  "kernelspec": {
   "display_name": "Python 3",
   "language": "python",
   "name": "python3"
  },
  "language_info": {
   "codemirror_mode": {
    "name": "ipython",
    "version": 3
   },
   "file_extension": ".py",
   "mimetype": "text/x-python",
   "name": "python",
   "nbconvert_exporter": "python",
   "pygments_lexer": "ipython3",
   "version": "3.7.5"
  },
  "toc": {
   "base_numbering": 1,
   "nav_menu": {},
   "number_sections": true,
   "sideBar": true,
   "skip_h1_title": false,
   "title_cell": "Table of Contents",
   "title_sidebar": "Contents",
   "toc_cell": false,
   "toc_position": {},
   "toc_section_display": true,
   "toc_window_display": false
  }
 },
 "nbformat": 4,
 "nbformat_minor": 4
}
